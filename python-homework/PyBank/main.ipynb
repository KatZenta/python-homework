{
 "cells": [
  {
   "cell_type": "code",
   "execution_count": 49,
   "id": "00b54232-e84b-4f0c-a54d-a437145bda5c",
   "metadata": {},
   "outputs": [],
   "source": [
    "#In order to begin this assignment I will import the csv file to this notebook, and import the necessary tools I may need to use:\n",
    "    #such as numpy, numpy_financial and pandas"
   ]
  },
  {
   "cell_type": "code",
   "execution_count": 2,
   "id": "d0db4409-09a4-48e9-8122-f50ceb1d4c8a",
   "metadata": {},
   "outputs": [],
   "source": [
    "path = \"/Users/katharinezenta/Downloads/budget_data.csv\""
   ]
  },
  {
   "cell_type": "code",
   "execution_count": 4,
   "id": "6a06dbb2-02e3-4c9a-b896-66cd5d2b8064",
   "metadata": {},
   "outputs": [],
   "source": [
    "import numpy as np"
   ]
  },
  {
   "cell_type": "code",
   "execution_count": 5,
   "id": "41bab835-7aff-488b-af98-fb86d8c09c5d",
   "metadata": {},
   "outputs": [],
   "source": [
    "import numpy_financial as npf"
   ]
  },
  {
   "cell_type": "code",
   "execution_count": 7,
   "id": "5ffc8aa0-df7f-40de-a96f-db89cc2c46c7",
   "metadata": {},
   "outputs": [],
   "source": [
    "import pandas as pd"
   ]
  },
  {
   "cell_type": "code",
   "execution_count": 14,
   "id": "930266f5-57e0-4bb3-9b30-29ce42e3612c",
   "metadata": {
    "tags": []
   },
   "outputs": [
    {
     "data": {
      "text/html": [
       "<div>\n",
       "<style scoped>\n",
       "    .dataframe tbody tr th:only-of-type {\n",
       "        vertical-align: middle;\n",
       "    }\n",
       "\n",
       "    .dataframe tbody tr th {\n",
       "        vertical-align: top;\n",
       "    }\n",
       "\n",
       "    .dataframe thead th {\n",
       "        text-align: right;\n",
       "    }\n",
       "</style>\n",
       "<table border=\"1\" class=\"dataframe\">\n",
       "  <thead>\n",
       "    <tr style=\"text-align: right;\">\n",
       "      <th></th>\n",
       "      <th>Date</th>\n",
       "      <th>Profit/Losses</th>\n",
       "    </tr>\n",
       "  </thead>\n",
       "  <tbody>\n",
       "    <tr>\n",
       "      <th>0</th>\n",
       "      <td>Jan-2010</td>\n",
       "      <td>867884</td>\n",
       "    </tr>\n",
       "    <tr>\n",
       "      <th>1</th>\n",
       "      <td>Feb-2010</td>\n",
       "      <td>984655</td>\n",
       "    </tr>\n",
       "    <tr>\n",
       "      <th>2</th>\n",
       "      <td>Mar-2010</td>\n",
       "      <td>322013</td>\n",
       "    </tr>\n",
       "    <tr>\n",
       "      <th>3</th>\n",
       "      <td>Apr-2010</td>\n",
       "      <td>-69417</td>\n",
       "    </tr>\n",
       "    <tr>\n",
       "      <th>4</th>\n",
       "      <td>May-2010</td>\n",
       "      <td>310503</td>\n",
       "    </tr>\n",
       "    <tr>\n",
       "      <th>...</th>\n",
       "      <td>...</td>\n",
       "      <td>...</td>\n",
       "    </tr>\n",
       "    <tr>\n",
       "      <th>81</th>\n",
       "      <td>Oct-2016</td>\n",
       "      <td>102685</td>\n",
       "    </tr>\n",
       "    <tr>\n",
       "      <th>82</th>\n",
       "      <td>Nov-2016</td>\n",
       "      <td>795914</td>\n",
       "    </tr>\n",
       "    <tr>\n",
       "      <th>83</th>\n",
       "      <td>Dec-2016</td>\n",
       "      <td>60988</td>\n",
       "    </tr>\n",
       "    <tr>\n",
       "      <th>84</th>\n",
       "      <td>Jan-2017</td>\n",
       "      <td>138230</td>\n",
       "    </tr>\n",
       "    <tr>\n",
       "      <th>85</th>\n",
       "      <td>Feb-2017</td>\n",
       "      <td>671099</td>\n",
       "    </tr>\n",
       "  </tbody>\n",
       "</table>\n",
       "<p>86 rows × 2 columns</p>\n",
       "</div>"
      ],
      "text/plain": [
       "        Date  Profit/Losses\n",
       "0   Jan-2010         867884\n",
       "1   Feb-2010         984655\n",
       "2   Mar-2010         322013\n",
       "3   Apr-2010         -69417\n",
       "4   May-2010         310503\n",
       "..       ...            ...\n",
       "81  Oct-2016         102685\n",
       "82  Nov-2016         795914\n",
       "83  Dec-2016          60988\n",
       "84  Jan-2017         138230\n",
       "85  Feb-2017         671099\n",
       "\n",
       "[86 rows x 2 columns]"
      ]
     },
     "execution_count": 14,
     "metadata": {},
     "output_type": "execute_result"
    }
   ],
   "source": [
    "pd.read_csv(path)\n",
    "#Since this is only a read me version I will define this with df "
   ]
  },
  {
   "cell_type": "code",
   "execution_count": 11,
   "id": "643c27af-dd04-45d0-a5f5-6073013d7f80",
   "metadata": {},
   "outputs": [],
   "source": [
    "from pathlib import Path"
   ]
  },
  {
   "cell_type": "code",
   "execution_count": 12,
   "id": "292bb2f8-a98c-4408-873c-88632e598a0c",
   "metadata": {},
   "outputs": [],
   "source": [
    "import csv"
   ]
  },
  {
   "cell_type": "code",
   "execution_count": 13,
   "id": "27fedd8c-b87a-4e0c-9f0e-428a3eaf8a56",
   "metadata": {},
   "outputs": [],
   "source": [
    "csvpath = Path (\"/Users/katharinezenta/Downloads/budget_data.csv\")"
   ]
  },
  {
   "cell_type": "code",
   "execution_count": 15,
   "id": "1511b5f1-ba62-49b9-a38c-bbcd76b90c46",
   "metadata": {},
   "outputs": [
    {
     "data": {
      "text/html": [
       "<div>\n",
       "<style scoped>\n",
       "    .dataframe tbody tr th:only-of-type {\n",
       "        vertical-align: middle;\n",
       "    }\n",
       "\n",
       "    .dataframe tbody tr th {\n",
       "        vertical-align: top;\n",
       "    }\n",
       "\n",
       "    .dataframe thead th {\n",
       "        text-align: right;\n",
       "    }\n",
       "</style>\n",
       "<table border=\"1\" class=\"dataframe\">\n",
       "  <thead>\n",
       "    <tr style=\"text-align: right;\">\n",
       "      <th></th>\n",
       "      <th>Date</th>\n",
       "      <th>Profit/Losses</th>\n",
       "    </tr>\n",
       "  </thead>\n",
       "  <tbody>\n",
       "    <tr>\n",
       "      <th>0</th>\n",
       "      <td>Jan-2010</td>\n",
       "      <td>867884</td>\n",
       "    </tr>\n",
       "    <tr>\n",
       "      <th>1</th>\n",
       "      <td>Feb-2010</td>\n",
       "      <td>984655</td>\n",
       "    </tr>\n",
       "    <tr>\n",
       "      <th>2</th>\n",
       "      <td>Mar-2010</td>\n",
       "      <td>322013</td>\n",
       "    </tr>\n",
       "    <tr>\n",
       "      <th>3</th>\n",
       "      <td>Apr-2010</td>\n",
       "      <td>-69417</td>\n",
       "    </tr>\n",
       "    <tr>\n",
       "      <th>4</th>\n",
       "      <td>May-2010</td>\n",
       "      <td>310503</td>\n",
       "    </tr>\n",
       "    <tr>\n",
       "      <th>...</th>\n",
       "      <td>...</td>\n",
       "      <td>...</td>\n",
       "    </tr>\n",
       "    <tr>\n",
       "      <th>81</th>\n",
       "      <td>Oct-2016</td>\n",
       "      <td>102685</td>\n",
       "    </tr>\n",
       "    <tr>\n",
       "      <th>82</th>\n",
       "      <td>Nov-2016</td>\n",
       "      <td>795914</td>\n",
       "    </tr>\n",
       "    <tr>\n",
       "      <th>83</th>\n",
       "      <td>Dec-2016</td>\n",
       "      <td>60988</td>\n",
       "    </tr>\n",
       "    <tr>\n",
       "      <th>84</th>\n",
       "      <td>Jan-2017</td>\n",
       "      <td>138230</td>\n",
       "    </tr>\n",
       "    <tr>\n",
       "      <th>85</th>\n",
       "      <td>Feb-2017</td>\n",
       "      <td>671099</td>\n",
       "    </tr>\n",
       "  </tbody>\n",
       "</table>\n",
       "<p>86 rows × 2 columns</p>\n",
       "</div>"
      ],
      "text/plain": [
       "        Date  Profit/Losses\n",
       "0   Jan-2010         867884\n",
       "1   Feb-2010         984655\n",
       "2   Mar-2010         322013\n",
       "3   Apr-2010         -69417\n",
       "4   May-2010         310503\n",
       "..       ...            ...\n",
       "81  Oct-2016         102685\n",
       "82  Nov-2016         795914\n",
       "83  Dec-2016          60988\n",
       "84  Jan-2017         138230\n",
       "85  Feb-2017         671099\n",
       "\n",
       "[86 rows x 2 columns]"
      ]
     },
     "execution_count": 15,
     "metadata": {},
     "output_type": "execute_result"
    }
   ],
   "source": [
    "df = pd.read_csv(path)\n",
    "df"
   ]
  },
  {
   "cell_type": "code",
   "execution_count": 50,
   "id": "aa7af15b-d1af-4aa6-9210-a32db04ff794",
   "metadata": {},
   "outputs": [],
   "source": [
    "#now that I have the data I will begin extracting information "
   ]
  },
  {
   "cell_type": "code",
   "execution_count": 27,
   "id": "a9cc5624-280a-476c-b766-55b3cd49d912",
   "metadata": {},
   "outputs": [],
   "source": [
    "#First I will find the total number of months in the dataset by identifying the length of the column 'Date'"
   ]
  },
  {
   "cell_type": "code",
   "execution_count": 29,
   "id": "478df1ff-f95e-4c47-a754-85b197e24ec8",
   "metadata": {},
   "outputs": [],
   "source": [
    "total_months = (len(df['Date']))"
   ]
  },
  {
   "cell_type": "code",
   "execution_count": 30,
   "id": "4d93f3be-d380-47e8-8c57-aa64ce8dba9a",
   "metadata": {},
   "outputs": [
    {
     "data": {
      "text/plain": [
       "86"
      ]
     },
     "execution_count": 30,
     "metadata": {},
     "output_type": "execute_result"
    }
   ],
   "source": [
    "total_months"
   ]
  },
  {
   "cell_type": "code",
   "execution_count": 28,
   "id": "7c4ad1cd-c330-45b4-8a66-660d4b73ae7d",
   "metadata": {},
   "outputs": [],
   "source": [
    "#Next I will determine the total amount of Profit/Losses over the entire period"
   ]
  },
  {
   "cell_type": "code",
   "execution_count": 37,
   "id": "233ed483-fa07-4171-97a7-53f398e32513",
   "metadata": {},
   "outputs": [
    {
     "name": "stdout",
     "output_type": "stream",
     "text": [
      "38382578\n"
     ]
    }
   ],
   "source": [
    "total = df['Profit/Losses'].sum()\n",
    "print (total)"
   ]
  },
  {
   "cell_type": "code",
   "execution_count": 31,
   "id": "b74206db-aa9e-4b12-8331-f665654aa77f",
   "metadata": {},
   "outputs": [],
   "source": [
    "#I will determine the average changes in Profit/Losses over the entire period"
   ]
  },
  {
   "cell_type": "code",
   "execution_count": 40,
   "id": "e6d08ba9-bca0-46b1-9189-7426dd9c9c1a",
   "metadata": {},
   "outputs": [
    {
     "name": "stdout",
     "output_type": "stream",
     "text": [
      "446309.0465116279\n"
     ]
    }
   ],
   "source": [
    "average_change = df['Profit/Losses'].mean()\n",
    "print(average_change)"
   ]
  },
  {
   "cell_type": "code",
   "execution_count": 47,
   "id": "3a533a90-3ff3-4f44-a7d2-ce291f9d6218",
   "metadata": {},
   "outputs": [],
   "source": [
    "#The following will find the row of the greatest increase in the time period"
   ]
  },
  {
   "cell_type": "code",
   "execution_count": 72,
   "id": "17b6894f-7147-4c2d-8f3f-994dd80d5b36",
   "metadata": {},
   "outputs": [
    {
     "name": "stdout",
     "output_type": "stream",
     "text": [
      "        Date  Profit/Losses\n",
      "25  Feb-2012        1170593\n"
     ]
    }
   ],
   "source": [
    "greatest_increase = df[df['Profit/Losses']==df['Profit/Losses'].max()]\n",
    "print (greatest_increase)"
   ]
  },
  {
   "cell_type": "code",
   "execution_count": null,
   "id": "795c7c62-d2e6-4cc5-824e-97af8e497740",
   "metadata": {},
   "outputs": [],
   "source": []
  },
  {
   "cell_type": "code",
   "execution_count": 91,
   "id": "11cf7fd2-16c6-4c68-9b12-7c2b8aea9f99",
   "metadata": {},
   "outputs": [
    {
     "name": "stdout",
     "output_type": "stream",
     "text": [
      "        Date  Profit/Losses\n",
      "25  Feb-2012        1170593\n"
     ]
    }
   ],
   "source": [
    "greatest_increase = df[df['Profit/Losses']==df['Profit/Losses'].max()]\n",
    "print (greatest_increase)"
   ]
  },
  {
   "cell_type": "code",
   "execution_count": 44,
   "id": "4cd7a02e-f2b3-4704-bd60-214316db6201",
   "metadata": {},
   "outputs": [],
   "source": [
    "#Next I will find the row of the greatest decrease in the time period"
   ]
  },
  {
   "cell_type": "code",
   "execution_count": 45,
   "id": "5d587fad-8697-4b08-8feb-89a3a30fd79c",
   "metadata": {},
   "outputs": [
    {
     "name": "stdout",
     "output_type": "stream",
     "text": [
      "        Date  Profit/Losses\n",
      "44  Sep-2013       -1196225\n"
     ]
    }
   ],
   "source": [
    "greatest_decrease = df[df['Profit/Losses']==df['Profit/Losses'].min()]\n",
    "print(greatest_decrease)"
   ]
  },
  {
   "cell_type": "code",
   "execution_count": 51,
   "id": "83694af5-315e-4e1b-aad7-be0510787785",
   "metadata": {},
   "outputs": [],
   "source": [
    "#Finally I will print the answers in order to display them below"
   ]
  },
  {
   "cell_type": "code",
   "execution_count": 97,
   "id": "f2966527-0db9-47fe-b261-9af80aad1cda",
   "metadata": {},
   "outputs": [
    {
     "name": "stdout",
     "output_type": "stream",
     "text": [
      "Financial Analysis\n",
      "The total number of months is 86.\n",
      "The total amount of profit over the entire period of time is $38382578.\n",
      "The average change in the profits and losses over the entire period is $446309.05.\n",
      "The greatest increase over the entire period is         Date  Profit/Losses\n",
      "25  Feb-2012        1170593\n",
      "The greatest decrease ove =r the entire period is         Date  Profit/Losses\n",
      "44  Sep-2013       -1196225\n"
     ]
    }
   ],
   "source": [
    "print(f\"Financial Analysis\")\n",
    "\n",
    "print(f\"The total number of months is {total_months}.\")\n",
    "print(f\"The total amount of profit over the entire period of time is ${total}.\")\n",
    "print(f\"The average change in the profits and losses over the entire period is ${np.round(average_change,2)}.\")\n",
    "print(f\"The greatest increase over the entire period is {greatest_increase}\")\n",
    "print(f\"The greatest decrease ove =r the entire period is {greatest_decrease}\")"
   ]
  },
  {
   "cell_type": "code",
   "execution_count": null,
   "id": "4c7c0b2d-3da4-401b-8280-f6911399373a",
   "metadata": {},
   "outputs": [],
   "source": [
    "#I was unable to find a way to print the date and number for the greatest increase and decrease "
   ]
  }
 ],
 "metadata": {
  "kernelspec": {
   "display_name": "Python 3 (ipykernel)",
   "language": "python",
   "name": "python3"
  },
  "language_info": {
   "codemirror_mode": {
    "name": "ipython",
    "version": 3
   },
   "file_extension": ".py",
   "mimetype": "text/x-python",
   "name": "python",
   "nbconvert_exporter": "python",
   "pygments_lexer": "ipython3",
   "version": "3.9.7"
  }
 },
 "nbformat": 4,
 "nbformat_minor": 5
}
